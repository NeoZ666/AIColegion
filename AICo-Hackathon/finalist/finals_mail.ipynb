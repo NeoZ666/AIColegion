{
 "cells": [
  {
   "cell_type": "code",
   "execution_count": 1,
   "metadata": {},
   "outputs": [],
   "source": [
    "from email.message import EmailMessage\n",
    "import ssl\n",
    "import smtplib\n",
    "import openpyxl\n",
    "import os\n",
    "from dotenv import load_dotenv\n",
    "import cv2\n",
    "import openpyxl\n",
    "from fpdf import FPDF\n",
    "from PIL import Image"
   ]
  },
  {
   "cell_type": "code",
   "execution_count": 3,
   "metadata": {},
   "outputs": [
    {
     "name": "stdout",
     "output_type": "stream",
     "text": [
      "Generated certificate for Atharva Bhoite index 3\n",
      "Generated certificate for Sarvesh Patil index 4\n",
      "Generated certificate for Hrishikesh Kumbhar index 5\n",
      "Generated certificate for Shreyansh Singh index 6\n",
      "Generated certificate for Arnav Singhal index 11\n",
      "Generated certificate for Abhishek Thorat index 12\n",
      "Generated certificate for Prasad Jawale index 13\n",
      "Generated certificate for Surya Ganiga index 14\n",
      "Generated certificate for Chinmay Vyapari index 17\n",
      "Generated certificate for Aniket Chaudhary index 18\n",
      "Generated certificate for Narender Keswani index 19\n",
      "Generated certificate for Soham Jadiye index 22\n",
      "Generated certificate for Shubham Hadawle index 23\n",
      "Generated certificate for Avanish Srivastava index 24\n",
      "Generated certificate for Govind Tiwari index 25\n",
      "Generated certificate for Anish Lohiya index 27\n",
      "Generated certificate for Manali Bhave index 28\n",
      "Generated certificate for Sushil Kumar Kori index 30\n",
      "Generated certificate for Piyush Tharewal index 31\n",
      "Generated certificate for Jogendra Balotiya index 32\n",
      "Generated certificate for Sachin Singh index 33\n"
     ]
    }
   ],
   "source": [
    "issued_to = 'finalists.xlsx'\n",
    "output_path = 'finale_generated_certi_data'\n",
    "\n",
    "obj = openpyxl.load_workbook(issued_to)\n",
    "sheet = obj.active\n",
    "\n",
    "\n",
    "for i in range(3,7):    #first index is inclusive, last index is exclusive\n",
    "    template = '1.png'\n",
    "    named = sheet.cell(row=i, column=1)\n",
    "    name = named.value\n",
    "    img = cv2.imread(template)\n",
    "    middle_point = (1021, 826) # only for reference \n",
    "    start_point = 1021 - (len(name)*32) # 65 is length of each character\n",
    "    cv2.putText(img, name, (start_point, 826), cv2.FONT_HERSHEY_SCRIPT_COMPLEX, 4,(0,0,0), 2, cv2.LINE_AA) \n",
    "\n",
    "    cv2.imwrite(f'finale_generated_certi_data/{name}.png', img)\n",
    "    \n",
    "    pdf = FPDF()\n",
    "    pdf.add_page(orientation='P',format=(706,498))\n",
    "    pdf.image(f'finale_generated_certi_data/{name}.png', 0, 0, 710)\n",
    "    pdf.output(f'finale_pdf/{name}.pdf')\n",
    "    print(f'Generated certificate for {name} index {i}')\n",
    "    \n",
    "for i in range(11,15):    #first index is inclusive, last index is exclusive\n",
    "    template = '2.png'\n",
    "    named = sheet.cell(row=i, column=1)\n",
    "    name = named.value\n",
    "    img = cv2.imread(template)\n",
    "    middle_point = (1021, 826) # only for reference \n",
    "    start_point = 1021 - (len(name)*32) # 65 is length of each character\n",
    "    cv2.putText(img, name, (start_point, 826), cv2.FONT_HERSHEY_SCRIPT_COMPLEX, 4,(0,0,0), 2, cv2.LINE_AA) \n",
    "\n",
    "    cv2.imwrite(f'finale_generated_certi_data/{name}.png', img)\n",
    "    \n",
    "    pdf = FPDF()\n",
    "    pdf.add_page(orientation='P',format=(706,498))\n",
    "    pdf.image(f'finale_generated_certi_data/{name}.png', 0, 0, 710)\n",
    "    pdf.output(f'finale_pdf/{name}.pdf')\n",
    "    print(f'Generated certificate for {name} index {i}')\n",
    "\n",
    "for i in range(17, 20):    #first index is inclusive, last index is exclusive\n",
    "    template = '3.png'\n",
    "    named = sheet.cell(row=i, column=1)\n",
    "    name = named.value\n",
    "    img = cv2.imread(template)\n",
    "    middle_point = (1021, 826) # only for reference \n",
    "    start_point = 1021 - (len(name)*32) # 65 is length of each character\n",
    "    cv2.putText(img, name, (start_point, 826), cv2.FONT_HERSHEY_SCRIPT_COMPLEX, 4,(0,0,0), 2, cv2.LINE_AA) \n",
    "\n",
    "    cv2.imwrite(f'finale_generated_certi_data/{name}.png', img)\n",
    "    \n",
    "    pdf = FPDF()\n",
    "    pdf.add_page(orientation='P',format=(706,498))\n",
    "    pdf.image(f'finale_generated_certi_data/{name}.png', 0, 0, 710)\n",
    "    pdf.output(f'finale_pdf/{name}.pdf')\n",
    "    print(f'Generated certificate for {name} index {i}')\n",
    "\n",
    "for i in range(22, 34): \n",
    "    if sheet.cell(i,2).value is None:\n",
    "        pass\n",
    "    else:\n",
    "        template = 'all_finalist.png'\n",
    "        named = sheet.cell(row=i, column=1)\n",
    "        name = named.value\n",
    "        img = cv2.imread(template)\n",
    "        middle_point = (1021, 826) # only for reference \n",
    "        start_point = 1021 - (len(name)*32) # 65 is length of each character\n",
    "        cv2.putText(img, name, (start_point, 826), cv2.FONT_HERSHEY_SCRIPT_COMPLEX, 4,(0,0,0), 2, cv2.LINE_AA) \n",
    "\n",
    "        cv2.imwrite(f'finale_generated_certi_data/{name}.png', img)\n",
    "        \n",
    "        pdf = FPDF()\n",
    "        pdf.add_page(orientation='P',format=(706,498))\n",
    "        pdf.image(f'finale_generated_certi_data/{name}.png', 0, 0, 710)\n",
    "        pdf.output(f'finale_pdf/{name}.pdf')\n",
    "        print(f'Generated certificate for {name} index {i}')"
   ]
  },
  {
   "cell_type": "code",
   "execution_count": 22,
   "metadata": {},
   "outputs": [
    {
     "ename": "ModuleNotFoundError",
     "evalue": "No module named 'pydrive'",
     "output_type": "error",
     "traceback": [
      "\u001b[1;31m---------------------------------------------------------------------------\u001b[0m",
      "\u001b[1;31mModuleNotFoundError\u001b[0m                       Traceback (most recent call last)",
      "Input \u001b[1;32mIn [22]\u001b[0m, in \u001b[0;36m<cell line: 1>\u001b[1;34m()\u001b[0m\n\u001b[1;32m----> 1\u001b[0m \u001b[38;5;28;01mfrom\u001b[39;00m \u001b[38;5;21;01mpydrive\u001b[39;00m\u001b[38;5;21;01m.\u001b[39;00m\u001b[38;5;21;01mdrive\u001b[39;00m \u001b[38;5;28;01mimport\u001b[39;00m GoogleDrive\n\u001b[0;32m      2\u001b[0m \u001b[38;5;28;01mfrom\u001b[39;00m \u001b[38;5;21;01mpydrive\u001b[39;00m\u001b[38;5;21;01m.\u001b[39;00m\u001b[38;5;21;01mauth\u001b[39;00m \u001b[38;5;28;01mimport\u001b[39;00m GoogleAuth\n\u001b[0;32m      4\u001b[0m \u001b[38;5;66;03m# For using listdir()\u001b[39;00m\n",
      "\u001b[1;31mModuleNotFoundError\u001b[0m: No module named 'pydrive'"
     ]
    }
   ],
   "source": [
    "from pydrive.drive import GoogleDrive\n",
    "from pydrive.auth import GoogleAuth\n",
    "\n",
    "# For using listdir()\n",
    "import os\n",
    "\n",
    "# Below code does the authentication\n",
    "# part of the code\n",
    "gauth = GoogleAuth()\n",
    "\n",
    "# Creates local webserver and auto\n",
    "# handles authentication.\n",
    "gauth.LocalWebserverAuth()\n",
    "drive = GoogleDrive(gauth)\n",
    "\n",
    "# replace the value of this variable\n",
    "# with the absolute path of the directory\n",
    "path = r\"C:\\Users\\HJ_Home\\Desktop\\Auto Certi\\finalist\\finale_pdf\"\n",
    "\n",
    "# iterating thought all the files/folder\n",
    "# of the desired directory\n",
    "for x in os.listdir(path):\n",
    "\n",
    "    f = drive.CreateFile({'Finalists Certificate': x})\n",
    "    f.SetContentFile(os.path.join(path, x))\n",
    "    f.Upload()\n",
    "        # Due to a known bug in pydrive if we\n",
    "        # don't empty the variable used to\n",
    "        # upload the files to Google Drive the\n",
    "        # file stays open in memory and causes a\n",
    "        # memory leak, therefore preventing its\n",
    "        # deletion\n",
    "    f = None"
   ]
  },
  {
   "cell_type": "code",
   "execution_count": 12,
   "metadata": {},
   "outputs": [
    {
     "name": "stdout",
     "output_type": "stream",
     "text": [
      "Name: PyDrive\n",
      "Version: 1.3.1\n",
      "Summary: Google Drive API made easy.\n",
      "Home-page: https://github.com/googledrive/PyDrive\n",
      "Author: JunYoung Gwak\n",
      "Author-email: jgwak@dreamylab.com\n",
      "License: LICENSE\n",
      "Location: c:\\users\\hj_home\\appdata\\local\\programs\\python\\python310\\lib\\site-packages\n",
      "Requires: google-api-python-client, oauth2client, PyYAML\n",
      "Required-by: \n"
     ]
    }
   ],
   "source": [
    "!pip show pydrive"
   ]
  }
 ],
 "metadata": {
  "kernelspec": {
   "display_name": "Python 3 (ipykernel)",
   "language": "python",
   "name": "python3"
  },
  "language_info": {
   "codemirror_mode": {
    "name": "ipython",
    "version": 3
   },
   "file_extension": ".py",
   "mimetype": "text/x-python",
   "name": "python",
   "nbconvert_exporter": "python",
   "pygments_lexer": "ipython3",
   "version": "3.9.12"
  },
  "vscode": {
   "interpreter": {
    "hash": "956041b357e35bd93ee99a02ce316b2ca0cb4163aa778e8481af86f828e412b3"
   }
  }
 },
 "nbformat": 4,
 "nbformat_minor": 2
}
